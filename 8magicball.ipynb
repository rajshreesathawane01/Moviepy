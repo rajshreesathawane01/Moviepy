{
 "cells": [
  {
   "cell_type": "code",
   "execution_count": 23,
   "id": "0b16bc5f",
   "metadata": {},
   "outputs": [
    {
     "name": "stdout",
     "output_type": "stream",
     "text": [
      "type any number between 0  to 4:0\n",
      "type any number between 0  to 4:0\n",
      "0\n",
      "Thank you have a nice day..!😊\n"
     ]
    }
   ],
   "source": [
    "a=input(\"type any number between 0  to 4:\")\n",
    "b=input(\"type any number between 0  to 4:\")\n",
    "a1=int(a)\n",
    "b1=int(b)\n",
    "answers=a1+b1\n",
    "print(answers)\n",
    "if answers==0:\n",
    "    print(\"Thank you have a nice day..!😊\")\n",
    "elif answers==1:\n",
    "    print(\"it is certain👍\")\n",
    "elif answers==2:\n",
    "    print(\"Outlook good👌\")\n",
    "elif answers==3:\n",
    "    print(\"you may rely on it😃\")       \n",
    "elif answers==4:\n",
    "    print(\"ask again later🤑\")  \n",
    "elif answers==5:\n",
    "    print(\"Concentrate and ask again🙂\")      \n",
    "elif answers==6:\n",
    "    print(\"Reply hazy try again😳\")     \n",
    "elif answers==7:\n",
    "    print(\"my reply is no😔\")      \n",
    "elif answers==8:\n",
    "    print(\"my sources say no😌\")\n",
    "elif answers >8:\n",
    "    print(\"sorry number is greater than 8🙄\")\n",
    "    \n"
   ]
  },
  {
   "cell_type": "code",
   "execution_count": null,
   "id": "e942c87d",
   "metadata": {},
   "outputs": [],
   "source": [
    "\n"
   ]
  },
  {
   "cell_type": "code",
   "execution_count": null,
   "id": "dc91d1c9",
   "metadata": {},
   "outputs": [],
   "source": []
  },
  {
   "cell_type": "code",
   "execution_count": null,
   "id": "a53eee67",
   "metadata": {},
   "outputs": [],
   "source": []
  }
 ],
 "metadata": {
  "kernelspec": {
   "display_name": "Python 3",
   "language": "python",
   "name": "python3"
  },
  "language_info": {
   "codemirror_mode": {
    "name": "ipython",
    "version": 3
   },
   "file_extension": ".py",
   "mimetype": "text/x-python",
   "name": "python",
   "nbconvert_exporter": "python",
   "pygments_lexer": "ipython3",
   "version": "3.9.2"
  }
 },
 "nbformat": 4,
 "nbformat_minor": 5
}
