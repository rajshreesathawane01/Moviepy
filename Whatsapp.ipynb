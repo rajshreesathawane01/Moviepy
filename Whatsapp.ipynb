{
 "cells": [
  {
   "cell_type": "code",
   "execution_count": null,
   "id": "41ccddab",
   "metadata": {},
   "outputs": [],
   "source": [
    "# importing the module\n",
    "import pywhatkit\n",
    "  \n",
    "# using Exception Handling to avoid \n",
    "# unprecedented errors\n",
    "try:\n",
    "    \n",
    "  # sending message to reciever\n",
    "  # using pywhatkit\n",
    "  pywhatkit.sendwhatmsg(\"+919657367672\", \n",
    "                        \"Hello from Rupesh\", \n",
    "                        12, 17)\n",
    "  print(\"Successfully Sent!\")\n",
    "  \n",
    "except:\n",
    "    \n",
    "  # handling exception \n",
    "  # and printing error message\n",
    "  print(\"An Unexpected Error!\")"
   ]
  },
  {
   "cell_type": "code",
   "execution_count": null,
   "id": "7c996b96",
   "metadata": {},
   "outputs": [],
   "source": []
  }
 ],
 "metadata": {
  "kernelspec": {
   "display_name": "Python 3",
   "language": "python",
   "name": "python3"
  },
  "language_info": {
   "codemirror_mode": {
    "name": "ipython",
    "version": 3
   },
   "file_extension": ".py",
   "mimetype": "text/x-python",
   "name": "python",
   "nbconvert_exporter": "python",
   "pygments_lexer": "ipython3",
   "version": "3.9.2"
  }
 },
 "nbformat": 4,
 "nbformat_minor": 5
}
