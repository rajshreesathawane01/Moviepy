{
 "cells": [
  {
   "cell_type": "code",
   "execution_count": 1,
   "id": "e1034a6b",
   "metadata": {},
   "outputs": [
    {
     "name": "stdout",
     "output_type": "stream",
     "text": [
      "Hiiii garmmiiii\n"
     ]
    },
    {
     "data": {
      "text/plain": [
       "0"
      ]
     },
     "execution_count": 1,
     "metadata": {},
     "output_type": "execute_result"
    }
   ],
   "source": [
    "import os\n",
    "os.add_dll_directory(r'C:\\Program Files\\VideoLAN\\VLC')\n",
    "import vlc\n",
    "import pafy\n",
    "url=\"https://www.youtube.com/watch?v=LFFW3en2NUM\"\n",
    "#print(\"Hiiii garmmiiii\")\n",
    "video=pafy.new(url)\n",
    "best=video.getbest()\n",
    "media = vlc.MediaPlayer(best.url)\n",
    "media.play()"
   ]
  },
  {
   "cell_type": "code",
   "execution_count": null,
   "id": "fdb1f741",
   "metadata": {},
   "outputs": [],
   "source": []
  },
  {
   "cell_type": "code",
   "execution_count": null,
   "id": "98cc05da",
   "metadata": {},
   "outputs": [],
   "source": []
  }
 ],
 "metadata": {
  "kernelspec": {
   "display_name": "Python 3",
   "language": "python",
   "name": "python3"
  },
  "language_info": {
   "codemirror_mode": {
    "name": "ipython",
    "version": 3
   },
   "file_extension": ".py",
   "mimetype": "text/x-python",
   "name": "python",
   "nbconvert_exporter": "python",
   "pygments_lexer": "ipython3",
   "version": "3.9.2"
  }
 },
 "nbformat": 4,
 "nbformat_minor": 5
}
